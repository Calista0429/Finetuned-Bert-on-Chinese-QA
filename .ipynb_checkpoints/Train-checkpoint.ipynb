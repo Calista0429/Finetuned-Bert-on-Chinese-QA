{
 "cells": [
  {
   "cell_type": "code",
   "execution_count": 1,
   "id": "fd857246-0c56-417d-9199-6026af46abf6",
   "metadata": {},
   "outputs": [],
   "source": [
    "import json\n",
    "import numpy as np\n",
    "import random\n",
    "import torch\n",
    "from torch.utils.data import DataLoader, Dataset \n",
    "from transformers import AdamW\n",
    "from pathlib import Path\n",
    "from argparse import Namespace\n",
    "import wandb\n",
    "from tqdm.auto import tqdm\n",
    "import warnings\n",
    "warnings.filterwarnings(\"ignore\")"
   ]
  },
  {
   "cell_type": "code",
   "execution_count": 2,
   "id": "a5c0fa0a-e219-4c31-ab4e-1d817dfa79b6",
   "metadata": {},
   "outputs": [],
   "source": [
    "device = \"cuda\" if torch.cuda.is_available() else \"cpu\"\n",
    "\n",
    "# Fix random seed for reproducibility\n",
    "def same_seeds(seed):\n",
    "\ttorch.manual_seed(seed)\n",
    "\tif torch.cuda.is_available():\n",
    "\t\t\ttorch.cuda.manual_seed(seed)\n",
    "\t\t\ttorch.cuda.manual_seed_all(seed)\n",
    "\tnp.random.seed(seed)\n",
    "\trandom.seed(seed)\n",
    "\ttorch.backends.cudnn.benchmark = False\n",
    "\ttorch.backends.cudnn.deterministic = True\n",
    "same_seeds(2)"
   ]
  },
  {
   "cell_type": "code",
   "execution_count": 3,
   "id": "bb4ebdc0-6f70-4b56-8928-e43c68527a6a",
   "metadata": {},
   "outputs": [
    {
     "name": "stderr",
     "output_type": "stream",
     "text": [
      "Some weights of the model checkpoint at bert-base-chinese were not used when initializing BertForQuestionAnswering: ['cls.predictions.decoder.weight', 'cls.predictions.bias', 'cls.predictions.transform.dense.bias', 'cls.seq_relationship.weight', 'cls.predictions.transform.LayerNorm.weight', 'cls.predictions.transform.LayerNorm.bias', 'cls.predictions.transform.dense.weight', 'cls.seq_relationship.bias']\n",
      "- This IS expected if you are initializing BertForQuestionAnswering from the checkpoint of a model trained on another task or with another architecture (e.g. initializing a BertForSequenceClassification model from a BertForPreTraining model).\n",
      "- This IS NOT expected if you are initializing BertForQuestionAnswering from the checkpoint of a model that you expect to be exactly identical (initializing a BertForSequenceClassification model from a BertForSequenceClassification model).\n",
      "Some weights of BertForQuestionAnswering were not initialized from the model checkpoint at bert-base-chinese and are newly initialized: ['qa_outputs.bias', 'qa_outputs.weight']\n",
      "You should probably TRAIN this model on a down-stream task to be able to use it for predictions and inference.\n"
     ]
    }
   ],
   "source": [
    "from transformers import (\n",
    "  AutoTokenizer,\n",
    "  AutoModelForQuestionAnswering,\n",
    ")\n",
    "\n",
    "model = AutoModelForQuestionAnswering.from_pretrained(\"bert-base-chinese\").to(device)\n",
    "tokenizer = AutoTokenizer.from_pretrained(\"bert-base-chinese\")\n",
    "\n",
    "# You can safely ignore the warning message (it pops up because new prediction heads for QA are initialized randomly)"
   ]
  },
  {
   "cell_type": "code",
   "execution_count": 4,
   "id": "ef6c18e1-ac66-483a-b8a3-c062d634552b",
   "metadata": {},
   "outputs": [],
   "source": [
    "def read_data(file):\n",
    "    with open(file, 'r', encoding=\"utf-8\") as reader:\n",
    "        data = json.load(reader)\n",
    "    return data[\"questions\"], data[\"paragraphs\"]\n",
    "\n",
    "train_questions, train_paragraphs = read_data(\"D://Code/Machine Translation/hw7_train.json\")\n",
    "dev_questions, dev_paragraphs = read_data(\"D://Code/Machine Translation/hw7_dev.json\")\n",
    "test_questions, test_paragraphs = read_data(\"D://Code/Machine Translation/hw7_test.json\")"
   ]
  },
  {
   "cell_type": "code",
   "execution_count": 5,
   "id": "a509cee2-3cce-44bb-9515-a83ff076e9fb",
   "metadata": {},
   "outputs": [
    {
     "data": {
      "text/plain": [
       "({'id': 0,\n",
       "  'paragraph_id': 8164,\n",
       "  'question_text': '保定至西安的電報線路架設後約10年什麼建設開始營運？',\n",
       "  'answer_text': '盧漢鐵路盧保段',\n",
       "  'answer_start': 141,\n",
       "  'answer_end': 147},\n",
       " '2010年引入的廣州快速交通運輸系統是世界第二大快速運輸系統。每日載客量可達100萬人次。每小時的客流量峰值高達26,900名乘客，僅次於波哥大的快速交通系統。每10秒有一輛公共汽車，每輛公共汽車在一個方向上行駛350小時。該平台包括橋樑，是世界上最長的國家公共汽車快速運輸系統平台，長度為260米。目前，廣州市的出租車和公交車主要以液化石油氣為燃料，部分公交車採用油電，氣電混合技術。2012年底，一輛LNG燃料公共汽車開始啟動。2014年6月，引入了LNG插電式混合動力公交車取代LPG公交車。2007年1月16日，廣州市政府完全禁止在城市地區駕駛摩托車。違反禁令的機動車將被沒收。廣州市交通局聲稱，禁令的實施導致交通擁堵和車禍大大減少。廣州白雲國際機場位於白雲區與花都區交界處。它於2004年8月5日正式投入運營。它是中國第二繁忙的機場。機場取代了原先位於市中心的舊機場，無法滿足日益增長的航空需求。目前，機場有三個簡易機場，是中國第三個擁有三條跑道的民航機場。比2023年香港國際機場第三條跑道的預計完工時間提前了8年。')"
      ]
     },
     "execution_count": 5,
     "metadata": {},
     "output_type": "execute_result"
    }
   ],
   "source": [
    "train_questions[0], train_paragraphs[0]"
   ]
  },
  {
   "cell_type": "code",
   "execution_count": 6,
   "id": "1afe705e-146b-426e-aef7-b22f8cda61ca",
   "metadata": {},
   "outputs": [],
   "source": [
    "len_q = []\n",
    "len_p = []\n",
    "for q in train_questions:\n",
    "    len_q.append(len(q[\"question_text\"]))\n",
    "for p in train_paragraphs:\n",
    "    len_p.append(len(p))"
   ]
  },
  {
   "cell_type": "code",
   "execution_count": 7,
   "id": "5de8c97a-4a39-48cd-aad4-a44d7de3c22b",
   "metadata": {},
   "outputs": [
    {
     "data": {
      "text/plain": [
       "222"
      ]
     },
     "execution_count": 7,
     "metadata": {},
     "output_type": "execute_result"
    }
   ],
   "source": [
    "np.max(len_q)"
   ]
  },
  {
   "cell_type": "code",
   "execution_count": 8,
   "id": "36a8c949-bcf8-4975-ab22-9d7ae4795cb0",
   "metadata": {},
   "outputs": [
    {
     "data": {
      "text/plain": [
       "437.5714658490443"
      ]
     },
     "execution_count": 8,
     "metadata": {},
     "output_type": "execute_result"
    }
   ],
   "source": [
    "np.mean(len_p)"
   ]
  },
  {
   "cell_type": "code",
   "execution_count": 9,
   "id": "ec6621b0-6e24-400e-9503-f95efc050dc4",
   "metadata": {},
   "outputs": [
    {
     "name": "stderr",
     "output_type": "stream",
     "text": [
      "Token indices sequence length is longer than the specified maximum sequence length for this model (566 > 512). Running this sequence through the model will result in indexing errors\n"
     ]
    }
   ],
   "source": [
    "# Tokenize questions and paragraphs separately\n",
    "# 「add_special_tokens」 is set to False since special tokens will be added when tokenized questions and paragraphs are combined in datset __getitem__ \n",
    "\n",
    "train_questions_tokenized = tokenizer([train_question[\"question_text\"] for train_question in train_questions], add_special_tokens=False)\n",
    "dev_questions_tokenized = tokenizer([dev_question[\"question_text\"] for dev_question in dev_questions], add_special_tokens=False)\n",
    "test_questions_tokenized = tokenizer([test_question[\"question_text\"] for test_question in test_questions], add_special_tokens=False) \n",
    "\n",
    "train_paragraphs_tokenized = tokenizer(train_paragraphs, add_special_tokens=False)\n",
    "dev_paragraphs_tokenized = tokenizer(dev_paragraphs, add_special_tokens=False)\n",
    "test_paragraphs_tokenized = tokenizer(test_paragraphs, add_special_tokens=False)\n",
    "\n",
    "# You can safely ignore the warning message as tokenized sequences will be futher processed in datset __getitem__ before passing to model"
   ]
  },
  {
   "cell_type": "code",
   "execution_count": 10,
   "id": "deedba55-c2b6-47c0-9215-f569f32a30a2",
   "metadata": {},
   "outputs": [
    {
     "data": {
      "text/plain": [
       "Encoding(num_tokens=23, attributes=[ids, type_ids, tokens, offsets, attention_mask, special_tokens_mask, overflowing])"
      ]
     },
     "execution_count": 10,
     "metadata": {},
     "output_type": "execute_result"
    }
   ],
   "source": [
    "train_questions_tokenized[3]"
   ]
  },
  {
   "cell_type": "code",
   "execution_count": 11,
   "id": "99e4a1ff-a00d-4d49-8312-439d43f0e442",
   "metadata": {},
   "outputs": [
    {
     "data": {
      "text/plain": [
       "Encoding(num_tokens=430, attributes=[ids, type_ids, tokens, offsets, attention_mask, special_tokens_mask, overflowing])"
      ]
     },
     "execution_count": 11,
     "metadata": {},
     "output_type": "execute_result"
    }
   ],
   "source": [
    "train_paragraphs_tokenized[0]"
   ]
  },
  {
   "cell_type": "code",
   "execution_count": 12,
   "id": "09f0297b-7f4a-40c7-ba6b-8205fac6bd12",
   "metadata": {},
   "outputs": [],
   "source": [
    "class QA_Dataset(Dataset):\n",
    "    def __init__(self, split, questions, tokenized_questions, tokenized_paragraphs):\n",
    "        self.split = split\n",
    "        self.questions = questions\n",
    "        self.tokenized_questions = tokenized_questions\n",
    "        self.tokenized_paragraphs = tokenized_paragraphs\n",
    "        self.max_question_len = 60\n",
    "        self.max_paragraph_len = 150\n",
    "        \n",
    "        ##### TODO: Change value of doc_stride #####\n",
    "        # self.doc_stride = 150\n",
    "        self.doc_stride = 75\n",
    "\n",
    "        # Input sequence length = [CLS] + question + [SEP] + paragraph + [SEP]\n",
    "        self.max_seq_len = 1 + self.max_question_len + 1 + self.max_paragraph_len + 1\n",
    "\n",
    "    def __len__(self):\n",
    "        return len(self.questions)\n",
    "\n",
    "    def __getitem__(self, idx):\n",
    "        question = self.questions[idx]\n",
    "        tokenized_question = self.tokenized_questions[idx]\n",
    "        tokenized_paragraph = self.tokenized_paragraphs[question[\"paragraph_id\"]]\n",
    "\n",
    "        ##### TODO: Preprocessing #####\n",
    "        # Hint: How to prevent model from learning something it should not learn\n",
    "        if self.split == \"train\":\n",
    "            # Convert answer's start/end positions in paragraph_text to start/end positions in tokenized_paragraph  \n",
    "            answer_start_token = tokenized_paragraph.char_to_token(question[\"answer_start\"])\n",
    "            answer_end_token = tokenized_paragraph.char_to_token(question[\"answer_end\"])\n",
    "\n",
    "            # A single window is obtained by slicing the portion of paragraph containing the answer\n",
    "            mid = (answer_start_token + answer_end_token) // 2\n",
    "            \n",
    "            paragraph_start = max(0, min(mid - self.max_paragraph_len // 2, len(tokenized_paragraph) - self.max_paragraph_len))\n",
    "            paragraph_end = paragraph_start + self.max_paragraph_len\n",
    "\n",
    "            # Slice question/paragraph and add special tokens (101: CLS, 102: SEP)\n",
    "            input_ids_question = [101] + tokenized_question.ids[:self.max_question_len] + [102] \n",
    "            input_ids_paragraph = tokenized_paragraph.ids[paragraph_start : paragraph_end] + [102]\t\t\n",
    "            \n",
    "            # Convert answer's start/end positions in tokenized_paragraph to start/end positions in the window  \n",
    "            answer_start_token += len(input_ids_question) - paragraph_start\n",
    "            answer_end_token += len(input_ids_question) - paragraph_start\n",
    "            \n",
    "            # Pad sequence and obtain inputs to model \n",
    "            input_ids, token_type_ids, attention_mask = self.padding(input_ids_question, input_ids_paragraph)\n",
    "            return torch.tensor(input_ids), torch.tensor(token_type_ids), torch.tensor(attention_mask), answer_start_token, answer_end_token\n",
    "\n",
    "        # Validation/Testing\n",
    "        else:\n",
    "            input_ids_list, token_type_ids_list, attention_mask_list = [], [], []\n",
    "            \n",
    "            # Paragraph is split into several windows, each with start positions separated by step \"doc_stride\"\n",
    "            for i in range(0, len(tokenized_paragraph), self.doc_stride):\n",
    "                \n",
    "                # Slice question/paragraph and add special tokens (101: CLS, 102: SEP)\n",
    "                input_ids_question = [101] + tokenized_question.ids[:self.max_question_len] + [102]\n",
    "                input_ids_paragraph = tokenized_paragraph.ids[i : i + self.max_paragraph_len] + [102]\n",
    "                \n",
    "                # Pad sequence and obtain inputs to model\n",
    "                input_ids, token_type_ids, attention_mask = self.padding(input_ids_question, input_ids_paragraph)\n",
    "                \n",
    "                input_ids_list.append(input_ids)\n",
    "                token_type_ids_list.append(token_type_ids)\n",
    "                attention_mask_list.append(attention_mask)\n",
    "            \n",
    "            return torch.tensor(input_ids_list), torch.tensor(token_type_ids_list), torch.tensor(attention_mask_list)\n",
    "\n",
    "    def padding(self, input_ids_question, input_ids_paragraph):\n",
    "        # Pad zeros if sequence length is shorter than max_seq_len\n",
    "        padding_len = self.max_seq_len - len(input_ids_question) - len(input_ids_paragraph)\n",
    "        # Indices of input sequence tokens in the vocabulary\n",
    "        input_ids = input_ids_question + input_ids_paragraph + [0] * padding_len\n",
    "        # Segment token indices to indicate first and second portions of the inputs. Indices are selected in [0, 1]\n",
    "        token_type_ids = [0] * len(input_ids_question) + [1] * len(input_ids_paragraph) + [0] * padding_len\n",
    "        # Mask to avoid performing attention on padding token indices. Mask values selected in [0, 1]\n",
    "        attention_mask = [1] * (len(input_ids_question) + len(input_ids_paragraph)) + [0] * padding_len\n",
    "        \n",
    "        return input_ids, token_type_ids, attention_mask\n",
    "\n",
    "train_set = QA_Dataset(\"train\", train_questions, train_questions_tokenized, train_paragraphs_tokenized)\n",
    "dev_set = QA_Dataset(\"dev\", dev_questions, dev_questions_tokenized, dev_paragraphs_tokenized)\n",
    "test_set = QA_Dataset(\"test\", test_questions, test_questions_tokenized, test_paragraphs_tokenized)"
   ]
  },
  {
   "cell_type": "code",
   "execution_count": 13,
   "id": "6a54b02f-d72f-4a07-8ea4-bdbe2522a722",
   "metadata": {},
   "outputs": [],
   "source": [
    "def evaluate(data, output):\n",
    "    ##### TODO: Postprocessing #####\n",
    "    # There is a bug and room for improvement in postprocessing \n",
    "    # Hint: Open your prediction file to see what is wrong \n",
    "    \n",
    "    answer = ''\n",
    "    max_prob = float('-inf')\n",
    "    num_of_windows = data[0].shape[1]\n",
    "    \n",
    "    for k in range(num_of_windows):\n",
    "        # Obtain answer by choosing the most probable start position / end position\n",
    "        start_prob, start_index = torch.max(output.start_logits[k], dim=0)\n",
    "        end_prob, end_index = torch.max(output.end_logits[k], dim=0)\n",
    "        \n",
    "        # Probability of answer is calculated as sum of start_prob and end_prob\n",
    "        prob = start_prob + end_prob\n",
    "        \n",
    "        # Replace answer if calculated probability is larger than previous windows\n",
    "        #fix the bug \n",
    "        if start_index <= end_index:\n",
    "            if prob > max_prob:\n",
    "                max_prob = prob\n",
    "                # Convert tokens to chars (e.g. [1920, 7032] --> \"大 金\")\n",
    "                answer = tokenizer.decode(data[0][0][k][start_index : end_index + 1])\n",
    "        \n",
    "    # Remove spaces in answer (e.g. \"大 金\" --> \"大金\")\n",
    "    return answer.replace(' ','')"
   ]
  },
  {
   "cell_type": "code",
   "execution_count": 17,
   "id": "b8b838d1-3806-4520-902e-62bb8c495abb",
   "metadata": {},
   "outputs": [],
   "source": [
    "config = Namespace(\n",
    "    #save the checkpoint in wandb\n",
    "    savedir = \"./checkpoints/bert-medium\",\n",
    "\n",
    "    # training epoch\n",
    "    num_epoch = 3,\n",
    "    \n",
    "    #Validate on validation set\n",
    "    validation = True,\n",
    "    \n",
    "    #print the loss per logging step\n",
    "    logging_step = 100,\n",
    "    \n",
    "    #learning rate\n",
    "    learning_rate = 1e-5,\n",
    "\n",
    "    # training batch size \n",
    "    train_batch_size = 8,\n",
    "\n",
    "    # logging\n",
    "    use_wandb=True,\n",
    ")"
   ]
  },
  {
   "cell_type": "code",
   "execution_count": 19,
   "id": "75ebc212-3ebc-4028-8bd4-04ead52d9889",
   "metadata": {},
   "outputs": [],
   "source": [
    "from accelerate import Accelerator\n",
    "from transformers import get_linear_schedule_with_warmup\n",
    "from torch.optim.lr_scheduler import LambdaLR\n",
    "\n",
    "#### TODO: gradient_accumulation (optional)####\n",
    "# Note: train_batch_size * gradient_accumulation_steps = effective batch size\n",
    "# If CUDA out of memory, you can make train_batch_size lower and gradient_accumulation_steps upper\n",
    "# Doc: https://huggingface.co/docs/accelerate/usage_guides/gradient_accumulation\n",
    "gradient_accumulation_steps = 16\n",
    "optimizer = AdamW(model.parameters(), lr=config.learning_rate)\n",
    "\n",
    "\n",
    "# dataloader\n",
    "# Note: Do NOT change batch size of dev_loader / test_loader !\n",
    "# Although batch size=1, it is actually a batch consisting of several windows from the same QA pair\n",
    "train_loader = DataLoader(train_set, batch_size=config.train_batch_size, shuffle=True, pin_memory=True)\n",
    "dev_loader = DataLoader(dev_set, batch_size=1, shuffle=False, pin_memory=True)\n",
    "test_loader = DataLoader(test_set, batch_size=1, shuffle=False, pin_memory=True)\n",
    "\n",
    "total_steps = len(train_loader) * config.num_epoch\n",
    "num_warmup_steps = int(0.2 * total_steps)  # Set warmup steps to 20% of total steps\n",
    "# [Hugging Face] Apply linear learning rate decay with warmup\n",
    "scheduler = get_linear_schedule_with_warmup(\n",
    "    optimizer, num_warmup_steps=num_warmup_steps, num_training_steps=total_steps\n",
    ")\n",
    "\n",
    "# Change \"fp16_training\" to True to support automatic mixed \n",
    "# precision training (fp16)\t\n",
    "fp16_training = True\n",
    "if fp16_training:    \n",
    "    accelerator = Accelerator(mixed_precision=\"fp16\", gradient_accumulation_steps=gradient_accumulation_steps)\n",
    "else:\n",
    "    accelerator = Accelerator(gradient_accumulation_steps=gradient_accumulation_steps)\n",
    "if config.use_wandb:\n",
    "    wandb.init(project=\"Fintuning-QA-Bert\", name=Path(config.savedir).stem, config=config)\n",
    "\n",
    "# Documentation for the toolkit:  https://huggingface.co/docs/accelerate/\n",
    "model, optimizer, train_loader, scheduler = accelerator.prepare(model, optimizer, train_loader, scheduler) "
   ]
  },
  {
   "cell_type": "code",
   "execution_count": 16,
   "id": "84c9e31e-df52-4f96-95ef-d3a268eda6f9",
   "metadata": {},
   "outputs": [
    {
     "name": "stdout",
     "output_type": "stream",
     "text": [
      "Start Training ...\n"
     ]
    },
    {
     "data": {
      "application/vnd.jupyter.widget-view+json": {
       "model_id": "fd6387122bd5432fab8a1cdcfaa23494",
       "version_major": 2,
       "version_minor": 0
      },
      "text/plain": [
       "  0%|          | 0/3365 [00:00<?, ?it/s]"
      ]
     },
     "metadata": {},
     "output_type": "display_data"
    },
    {
     "name": "stdout",
     "output_type": "stream",
     "text": [
      "Epoch 1 | Step 100 | loss = 3.756, acc = 0.080\n",
      "Epoch 1 | Step 200 | loss = 2.002, acc = 0.306\n",
      "Epoch 1 | Step 300 | loss = 1.621, acc = 0.435\n",
      "Epoch 1 | Step 400 | loss = 1.411, acc = 0.481\n",
      "Epoch 1 | Step 500 | loss = 1.206, acc = 0.562\n",
      "Epoch 1 | Step 600 | loss = 1.017, acc = 0.592\n",
      "Epoch 1 | Step 700 | loss = 1.081, acc = 0.580\n",
      "Epoch 1 | Step 800 | loss = 0.953, acc = 0.621\n",
      "Epoch 1 | Step 900 | loss = 0.900, acc = 0.641\n",
      "Epoch 1 | Step 1000 | loss = 0.859, acc = 0.623\n",
      "Epoch 1 | Step 1100 | loss = 0.855, acc = 0.650\n",
      "Epoch 1 | Step 1200 | loss = 0.826, acc = 0.645\n",
      "Epoch 1 | Step 1300 | loss = 0.809, acc = 0.670\n",
      "Epoch 1 | Step 1400 | loss = 0.725, acc = 0.699\n",
      "Epoch 1 | Step 1500 | loss = 0.889, acc = 0.636\n",
      "Epoch 1 | Step 1600 | loss = 0.690, acc = 0.710\n",
      "Epoch 1 | Step 1700 | loss = 0.797, acc = 0.683\n",
      "Epoch 1 | Step 1800 | loss = 0.705, acc = 0.688\n",
      "Epoch 1 | Step 1900 | loss = 0.703, acc = 0.707\n",
      "Epoch 1 | Step 2000 | loss = 0.665, acc = 0.706\n",
      "Epoch 1 | Step 2100 | loss = 0.734, acc = 0.678\n",
      "Epoch 1 | Step 2200 | loss = 0.750, acc = 0.692\n",
      "Epoch 1 | Step 2300 | loss = 0.670, acc = 0.712\n",
      "Epoch 1 | Step 2400 | loss = 0.660, acc = 0.692\n",
      "Epoch 1 | Step 2500 | loss = 0.693, acc = 0.701\n",
      "Epoch 1 | Step 2600 | loss = 0.606, acc = 0.712\n",
      "Epoch 1 | Step 2700 | loss = 0.674, acc = 0.717\n",
      "Epoch 1 | Step 2800 | loss = 0.676, acc = 0.716\n",
      "Epoch 1 | Step 2900 | loss = 0.676, acc = 0.725\n",
      "Epoch 1 | Step 3000 | loss = 0.682, acc = 0.710\n",
      "Epoch 1 | Step 3100 | loss = 0.696, acc = 0.700\n",
      "Epoch 1 | Step 3200 | loss = 0.638, acc = 0.729\n",
      "Epoch 1 | Step 3300 | loss = 0.604, acc = 0.732\n",
      "Evaluating Dev Set ...\n"
     ]
    },
    {
     "data": {
      "application/vnd.jupyter.widget-view+json": {
       "model_id": "6468d7071009467db0307ad2e814ef68",
       "version_major": 2,
       "version_minor": 0
      },
      "text/plain": [
       "  0%|          | 0/2863 [00:00<?, ?it/s]"
      ]
     },
     "metadata": {},
     "output_type": "display_data"
    },
    {
     "name": "stdout",
     "output_type": "stream",
     "text": [
      "Validation | Epoch 4 | acc = 0.686\n"
     ]
    },
    {
     "data": {
      "application/vnd.jupyter.widget-view+json": {
       "model_id": "a87b7686973f4f1380c482ed15eb86c5",
       "version_major": 2,
       "version_minor": 0
      },
      "text/plain": [
       "  0%|          | 0/3365 [00:00<?, ?it/s]"
      ]
     },
     "metadata": {},
     "output_type": "display_data"
    },
    {
     "name": "stdout",
     "output_type": "stream",
     "text": [
      "Epoch 2 | Step 100 | loss = 0.448, acc = 0.772\n",
      "Epoch 2 | Step 200 | loss = 0.480, acc = 0.769\n",
      "Epoch 2 | Step 300 | loss = 0.435, acc = 0.797\n",
      "Epoch 2 | Step 400 | loss = 0.534, acc = 0.746\n",
      "Epoch 2 | Step 500 | loss = 0.374, acc = 0.819\n",
      "Epoch 2 | Step 600 | loss = 0.411, acc = 0.799\n",
      "Epoch 2 | Step 700 | loss = 0.476, acc = 0.764\n",
      "Epoch 2 | Step 800 | loss = 0.422, acc = 0.777\n",
      "Epoch 2 | Step 900 | loss = 0.493, acc = 0.752\n",
      "Epoch 2 | Step 1000 | loss = 0.489, acc = 0.780\n",
      "Epoch 2 | Step 1100 | loss = 0.432, acc = 0.790\n",
      "Epoch 2 | Step 1200 | loss = 0.473, acc = 0.782\n",
      "Epoch 2 | Step 1300 | loss = 0.491, acc = 0.769\n",
      "Epoch 2 | Step 1400 | loss = 0.464, acc = 0.787\n",
      "Epoch 2 | Step 1500 | loss = 0.419, acc = 0.762\n",
      "Epoch 2 | Step 1600 | loss = 0.435, acc = 0.792\n",
      "Epoch 2 | Step 1700 | loss = 0.441, acc = 0.809\n",
      "Epoch 2 | Step 1800 | loss = 0.409, acc = 0.817\n",
      "Epoch 2 | Step 1900 | loss = 0.410, acc = 0.795\n",
      "Epoch 2 | Step 2000 | loss = 0.467, acc = 0.780\n",
      "Epoch 2 | Step 2100 | loss = 0.467, acc = 0.785\n",
      "Epoch 2 | Step 2200 | loss = 0.442, acc = 0.790\n",
      "Epoch 2 | Step 2300 | loss = 0.364, acc = 0.814\n",
      "Epoch 2 | Step 2400 | loss = 0.409, acc = 0.808\n",
      "Epoch 2 | Step 2500 | loss = 0.388, acc = 0.796\n",
      "Epoch 2 | Step 2600 | loss = 0.394, acc = 0.817\n",
      "Epoch 2 | Step 2700 | loss = 0.436, acc = 0.781\n",
      "Epoch 2 | Step 2800 | loss = 0.411, acc = 0.792\n",
      "Epoch 2 | Step 2900 | loss = 0.417, acc = 0.792\n",
      "Epoch 2 | Step 3000 | loss = 0.403, acc = 0.827\n",
      "Epoch 2 | Step 3100 | loss = 0.457, acc = 0.786\n",
      "Epoch 2 | Step 3200 | loss = 0.442, acc = 0.791\n",
      "Epoch 2 | Step 3300 | loss = 0.469, acc = 0.789\n",
      "Evaluating Dev Set ...\n"
     ]
    },
    {
     "data": {
      "application/vnd.jupyter.widget-view+json": {
       "model_id": "69b31f5c23184ed88fa0f75ce5586b48",
       "version_major": 2,
       "version_minor": 0
      },
      "text/plain": [
       "  0%|          | 0/2863 [00:00<?, ?it/s]"
      ]
     },
     "metadata": {},
     "output_type": "display_data"
    },
    {
     "name": "stdout",
     "output_type": "stream",
     "text": [
      "Validation | Epoch 4 | acc = 0.701\n"
     ]
    },
    {
     "data": {
      "application/vnd.jupyter.widget-view+json": {
       "model_id": "f3bb992dfa6444979e6bfc69e4c86080",
       "version_major": 2,
       "version_minor": 0
      },
      "text/plain": [
       "  0%|          | 0/3365 [00:00<?, ?it/s]"
      ]
     },
     "metadata": {},
     "output_type": "display_data"
    },
    {
     "name": "stdout",
     "output_type": "stream",
     "text": [
      "Epoch 3 | Step 100 | loss = 0.278, acc = 0.849\n",
      "Epoch 3 | Step 200 | loss = 0.218, acc = 0.876\n",
      "Epoch 3 | Step 300 | loss = 0.260, acc = 0.860\n",
      "Epoch 3 | Step 400 | loss = 0.250, acc = 0.860\n",
      "Epoch 3 | Step 500 | loss = 0.250, acc = 0.866\n",
      "Epoch 3 | Step 600 | loss = 0.313, acc = 0.845\n",
      "Epoch 3 | Step 700 | loss = 0.232, acc = 0.882\n",
      "Epoch 3 | Step 800 | loss = 0.231, acc = 0.865\n",
      "Epoch 3 | Step 900 | loss = 0.254, acc = 0.860\n",
      "Epoch 3 | Step 1000 | loss = 0.293, acc = 0.836\n",
      "Epoch 3 | Step 1100 | loss = 0.251, acc = 0.873\n",
      "Epoch 3 | Step 1200 | loss = 0.270, acc = 0.868\n",
      "Epoch 3 | Step 1300 | loss = 0.231, acc = 0.876\n",
      "Epoch 3 | Step 1400 | loss = 0.300, acc = 0.849\n",
      "Epoch 3 | Step 1500 | loss = 0.289, acc = 0.825\n",
      "Epoch 3 | Step 1600 | loss = 0.254, acc = 0.870\n",
      "Epoch 3 | Step 1700 | loss = 0.318, acc = 0.830\n",
      "Epoch 3 | Step 1800 | loss = 0.287, acc = 0.845\n",
      "Epoch 3 | Step 1900 | loss = 0.268, acc = 0.849\n",
      "Epoch 3 | Step 2000 | loss = 0.273, acc = 0.852\n",
      "Epoch 3 | Step 2100 | loss = 0.273, acc = 0.856\n",
      "Epoch 3 | Step 2200 | loss = 0.294, acc = 0.862\n",
      "Epoch 3 | Step 2300 | loss = 0.271, acc = 0.860\n",
      "Epoch 3 | Step 2400 | loss = 0.247, acc = 0.876\n",
      "Epoch 3 | Step 2500 | loss = 0.275, acc = 0.851\n",
      "Epoch 3 | Step 2600 | loss = 0.277, acc = 0.856\n",
      "Epoch 3 | Step 2700 | loss = 0.270, acc = 0.854\n",
      "Epoch 3 | Step 2800 | loss = 0.224, acc = 0.885\n",
      "Epoch 3 | Step 2900 | loss = 0.307, acc = 0.844\n",
      "Epoch 3 | Step 3000 | loss = 0.271, acc = 0.855\n",
      "Epoch 3 | Step 3100 | loss = 0.290, acc = 0.827\n",
      "Epoch 3 | Step 3200 | loss = 0.281, acc = 0.851\n",
      "Epoch 3 | Step 3300 | loss = 0.288, acc = 0.851\n",
      "Evaluating Dev Set ...\n"
     ]
    },
    {
     "data": {
      "application/vnd.jupyter.widget-view+json": {
       "model_id": "47b5f93b90ee4c4d8785e3d90fa6aeef",
       "version_major": 2,
       "version_minor": 0
      },
      "text/plain": [
       "  0%|          | 0/2863 [00:00<?, ?it/s]"
      ]
     },
     "metadata": {},
     "output_type": "display_data"
    },
    {
     "name": "stdout",
     "output_type": "stream",
     "text": [
      "Validation | Epoch 4 | acc = 0.712\n",
      "Saving Model ...\n"
     ]
    }
   ],
   "source": [
    "model.train()\n",
    "\n",
    "\n",
    "print(\"Start Training ...\")\n",
    "\n",
    "for epoch in range(config.num_epoch):\n",
    "    step = 1\n",
    "    train_loss = train_acc = 0\n",
    "    \n",
    "    for data in enumerate(tqdm(train_loader)):\t\n",
    "        with accelerator.accumulate(model):\n",
    "            \n",
    "            # Load all data into GPU\n",
    "            data = [i.to(device) for i in data]\n",
    "            \n",
    "            # Model inputs: input_ids, token_type_ids, attention_mask, start_positions, end_positions (Note: only \"input_ids\" is mandatory)\n",
    "            # Model outputs: start_logits, end_logits, loss (return when start_positions/end_positions are provided)  \n",
    "            output = model(input_ids=data[0], token_type_ids=data[1], attention_mask=data[2], start_positions=data[3], end_positions=data[4])\n",
    "            # Choose the most probable start position / end position\n",
    "            start_index = torch.argmax(output.start_logits, dim=1)\n",
    "            end_index = torch.argmax(output.end_logits, dim=1)\n",
    "            \n",
    "            # Prediction is correct only if both start_index and end_index are correct\n",
    "            train_acc += ((start_index == data[3]) & (end_index == data[4])).float().mean()\n",
    "               \n",
    "            train_loss += output.loss\n",
    "            \n",
    "            accelerator.backward(output.loss)\n",
    "            \n",
    "            step += 1\n",
    "            optimizer.step()\n",
    "            scheduler.step()\n",
    "            optimizer.zero_grad()\n",
    "        \n",
    "        ##### TODO: Apply linear learning rate decay #####\n",
    "\n",
    "        # Print training loss and accuracy over past logging step\n",
    "        if step % config.logging_step == 0:\n",
    "             if config.use_wandb:\n",
    "                 wandb.log({\n",
    "                    \"train/loss\": train_loss.item() / config.logging_step,\n",
    "                    \"train/acc\": train_acc / config.logging_step,\n",
    "                })\n",
    "             print(f\"Epoch {epoch + 1} | Step {step} | loss = {train_loss.item() / config.logging_step:.3f}, acc = {train_acc / config.logging_step:.3f}\")\n",
    "             train_loss = train_acc = 0\n",
    "\n",
    "    if config.validation:\n",
    "        print(\"Evaluating Dev Set ...\")\n",
    "        model.eval()\n",
    "        with torch.no_grad():\n",
    "            dev_acc = 0\n",
    "            for i, data in enumerate(tqdm(dev_loader)):\n",
    "                output = model(input_ids=data[0].squeeze(dim=0).to(device), token_type_ids=data[1].squeeze(dim=0).to(device),\n",
    "                       attention_mask=data[2].squeeze(dim=0).to(device))\n",
    "                # prediction is correct only if answer text exactly matches\n",
    "                dev_acc += evaluate(data, output) == dev_questions[i][\"answer_text\"]\n",
    "            if config.use_wandb: \n",
    "                wandb.log({\n",
    "                    \"Validation/acc\": dev_acc / len(dev_loader),\n",
    "                })\n",
    "            print(f\"Validation | Epoch {config.num_epoch + 1} | acc = {dev_acc / len(dev_loader):.3f}\")\n",
    "        model.train()\n",
    "\n",
    "# Save a model and its configuration file to the directory 「saved_model」 \n",
    "# i.e. there are two files under the direcory 「saved_model」: 「pytorch_model.bin」 and 「config.json」\n",
    "# Saved model can be re-loaded using 「model = BertForQuestionAnswering.from_pretrained(\"saved_model\")」\n",
    "print(\"Saving Model ...\")\n",
    "model_save_dir = \"saved_model\" \n",
    "model.save_pretrained(model_save_dir)"
   ]
  },
  {
   "cell_type": "code",
   "execution_count": null,
   "id": "37de8146-e91b-4b4d-8b95-b196bb7aa2a8",
   "metadata": {},
   "outputs": [],
   "source": [
    "print(\"Evaluating Test Set ...\")\n",
    "\n",
    "result = []\n",
    "\n",
    "model.eval()\n",
    "with torch.no_grad():\n",
    "    for data in tqdm(test_loader):\n",
    "        output = model(input_ids=data[0].squeeze(dim=0).to(device), token_type_ids=data[1].squeeze(dim=0).to(device),\n",
    "                       attention_mask=data[2].squeeze(dim=0).to(device))\n",
    "        result.append(evaluate(data, output))\n",
    "\n",
    "result_file = \"result.csv\"\n",
    "with open(result_file, 'w') as f:\t\n",
    "    f.write(\"ID,Answer\\n\")\n",
    "    for i, test_question in enumerate(test_questions):\n",
    "    # Replace commas in answers with empty strings (since csv is separated by comma)\n",
    "    # Answers in kaggle are processed in the same way\n",
    "        f.write(f\"{test_question['id']},{result[i].replace(',','')}\\n\")\n",
    "\n",
    "print(f\"Completed! Result is in {result_file}\")"
   ]
  },
  {
   "cell_type": "code",
   "execution_count": null,
   "id": "9cacd9aa-c83d-4db5-8578-ff6b9594c91a",
   "metadata": {},
   "outputs": [],
   "source": [
    "# import torch\n",
    "# import random  \n",
    "# import numpy as np\n",
    "\n",
    "# # To avoid CUDA_OUT_OF_MEMORY\n",
    "# torch.set_default_tensor_type(torch.cuda.FloatTensor)\n",
    "\n",
    "# # Fix random seed for reproducibility\n",
    "# def same_seeds(seed):\n",
    "# \ttorch.manual_seed(seed)\n",
    "# \tif torch.cuda.is_available():\n",
    "# \t\t\ttorch.cuda.manual_seed(seed)\n",
    "# \t\t\ttorch.cuda.manual_seed_all(seed)\n",
    "# \tnp.random.seed(seed)\n",
    "# \trandom.seed(seed)\n",
    "# \ttorch.backends.cudnn.benchmark = False\n",
    "# \ttorch.backends.cudnn.deterministic = True\n",
    "# same_seeds(2)"
   ]
  },
  {
   "cell_type": "code",
   "execution_count": null,
   "id": "202b2502-66f6-40a1-86e1-3ebd303ae6f9",
   "metadata": {},
   "outputs": [],
   "source": [
    "# from transformers import AutoTokenizer, AutoModelForCausalLM\n",
    "\n",
    "# # You can try model with different size\n",
    "# # When using Colab or Kaggle, models with more than 2 billions parameters may \n",
    "# # run out of memory\n",
    "# tokenizer = AutoTokenizer.from_pretrained(\"facebook/xglm-1.7B\")\n",
    "# model = AutoModelForCausalLM.from_pretrained(\"facebook/xglm-1.7B\")"
   ]
  },
  {
   "cell_type": "code",
   "execution_count": null,
   "id": "39ddf22f-f16b-4502-965c-b541d1e582f2",
   "metadata": {},
   "outputs": [],
   "source": [
    "# # To clean model output. If you try different prompts, you may have to fix \n",
    "# # this function on your own\n",
    "# def clean_text(text):\n",
    "#     # Note: When you use unilingual model, the colon may become fullwidth\n",
    "#     text = text.split(\"答案:\")[-1]\n",
    "#     text = text.split(\" \")[0]\n",
    "#     return text"
   ]
  },
  {
   "cell_type": "code",
   "execution_count": null,
   "id": "8f637b9e-918f-47eb-96ac-b827f70c068a",
   "metadata": {},
   "outputs": [],
   "source": [
    "# import random\n",
    "# import json\n",
    "\n",
    "# with open(\"hw7_in-context-learning-examples.json\", \"r\") as f: \n",
    "#     test = json.load(f)\n",
    "\n",
    "# # K-shot learning \n",
    "# # Give model K examples to make it achieve better accuracy \n",
    "# # Note: (1) When K >= 4, CUDA_OUT_OFF_MEMORY may occur.\n",
    "# #       (2) The maximum input length of XGLM is 2048\n",
    "# K = 2\n",
    "\n",
    "# question_ids = [qa[\"id\"] for qa in test[\"questions\"]]\n",
    "\n",
    "# with open(\"in-context-learning-result.txt\", \"w\") as f:\n",
    "#     print(\"ID,Ground-Truth,Prediction\", file = f)\n",
    "#     with torch.no_grad():\n",
    "#         for idx, qa in enumerate(test[\"questions\"]):\n",
    "#             # You can try different prompts\n",
    "#             prompt = \"請從最後一篇的文章中找出最後一個問題的答案\\n\"\n",
    "#             exist_question_indexs = [question_ids.index(qa[\"id\"])]\n",
    "\n",
    "#             # K-shot learning: give the model K examples with answers\n",
    "#             for i in range(K):\n",
    "#                 question_index = question_ids.index(qa[\"id\"])\n",
    "#                 while(question_index in exist_question_indexs): \n",
    "#                     question_index = random.randint(0, len(question_ids) - 1)\n",
    "#                 exist_question_indexs.append(question_index)    \n",
    "#                 paragraph_id = test[\"questions\"][question_index][\"paragraph_id\"]\n",
    "#                 prompt += f'文章：{test[\"paragraphs\"][paragraph_id]}\\n'\n",
    "#                 prompt += f'問題：{test[\"questions\"][question_index][\"question_text\"]}\\n'\n",
    "#                 prompt += f'答案：{test[\"questions\"][question_index][\"answer_text\"]}\\n'\n",
    "\n",
    "#             # The final one question without answer\n",
    "#             paragraph_id = qa[\"paragraph_id\"]\n",
    "#             prompt += f'文章：{test[\"paragraphs\"][paragraph_id]}\\n'\n",
    "#             prompt += f'問題：{qa[\"question_text\"]}\\n'\n",
    "#             prompt += f'答案：'\n",
    "            \n",
    "#             inputs = tokenizer(prompt, add_special_tokens=False, return_tensors=\"pt\") \n",
    "#             sample = model.generate(**inputs, max_new_tokens = 20)\n",
    "#             text = tokenizer.decode(sample[0], skip_special_tokens=True)\n",
    "\n",
    "#             # Note: You can delete this line to see what will happen\n",
    "#             text = clean_text(text)\n",
    "            \n",
    "#             print(prompt)\n",
    "#             print(f'正確答案: {qa[\"answer_text\"]}')\n",
    "#             print(f'模型輸出: {text}')\n",
    "#             print()\n",
    "\n",
    "#             print(f\"{idx},{qa['answer_text']},{text}\", file = f)"
   ]
  }
 ],
 "metadata": {
  "kernelspec": {
   "display_name": "pytorch",
   "language": "python",
   "name": "pytorch"
  },
  "language_info": {
   "codemirror_mode": {
    "name": "ipython",
    "version": 3
   },
   "file_extension": ".py",
   "mimetype": "text/x-python",
   "name": "python",
   "nbconvert_exporter": "python",
   "pygments_lexer": "ipython3",
   "version": "3.8.20"
  }
 },
 "nbformat": 4,
 "nbformat_minor": 5
}
